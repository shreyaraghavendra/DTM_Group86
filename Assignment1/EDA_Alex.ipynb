{
 "cells": [
  {
   "cell_type": "code",
   "execution_count": null,
   "metadata": {},
   "outputs": [],
   "source": [
    "#Imports\n",
    "import pandas as pd\n",
    "import matplotlib.pyplot as plt\n",
    "import numpy as np\n",
    "from data_exploration import *"
   ]
  },
  {
   "cell_type": "code",
   "execution_count": null,
   "metadata": {},
   "outputs": [],
   "source": [
    "# Setting Pandas Display Options\n",
    "pd.set_option('display.max_rows', 200) \n",
    "pd.set_option('display.max_columns', 100) "
   ]
  },
  {
   "cell_type": "code",
   "execution_count": null,
   "metadata": {},
   "outputs": [],
   "source": [
    "#Plotting format\n",
    "plt.style.use('seaborn-v0_8-bright')\n",
    "plt.style.use('seaborn-v0_8-darkgrid')"
   ]
  },
  {
   "cell_type": "code",
   "execution_count": null,
   "metadata": {},
   "outputs": [],
   "source": [
    "\n",
    "df = pd.read_csv('dataset_mood_smartphone.csv')"
   ]
  },
  {
   "cell_type": "markdown",
   "metadata": {},
   "source": [
    "## Sorting by ID and time\n",
    "---"
   ]
  },
  {
   "cell_type": "code",
   "execution_count": null,
   "metadata": {},
   "outputs": [],
   "source": [
    "df = df.sort_values(by=[\"id\",\"time\"],ascending=[True,True])\n",
    "df.head(200)"
   ]
  },
  {
   "cell_type": "markdown",
   "metadata": {},
   "source": [
    "## Date & Time split\n",
    "---"
   ]
  },
  {
   "cell_type": "markdown",
   "metadata": {},
   "source": [
    "* Seperate Date and time into seperate columns"
   ]
  },
  {
   "cell_type": "code",
   "execution_count": null,
   "metadata": {},
   "outputs": [],
   "source": [
    "#Rename time column\n",
    "df['time'] = df.rename(columns={'time':'date_time'},inplace= True)\n",
    "\n",
    "#Convert column to a dateTime format\n",
    "df['date_time'] = pd.to_datetime(df['date_time'])\n",
    "\n",
    "#Create a new column called \"date\"\n",
    "df['date'] = df['date_time'].dt.date\n",
    "\n",
    "#Create a new column called 'time'\n",
    "df['time'] = df['date_time'].dt.time"
   ]
  },
  {
   "cell_type": "code",
   "execution_count": null,
   "metadata": {},
   "outputs": [],
   "source": [
    "df.head(50000)"
   ]
  },
  {
   "cell_type": "markdown",
   "metadata": {},
   "source": [
    "* Identify strange time values"
   ]
  },
  {
   "cell_type": "code",
   "execution_count": null,
   "metadata": {},
   "outputs": [],
   "source": [
    "#Convert time column to String for now\n",
    "df['time'] = df['time'].astype(\"str\")\n",
    "\n",
    "#Defining the stabndard time format HH:MM:SS using a regular expression \n",
    "standard_time_format = r'^\\d{2}:\\d{2}:\\d{2}$'\n",
    "\n",
    "#A boolean variable that contains a column of true or false. In this case, an entry will contain true if the time format DOES NOT meet the format defined in the Regex above\n",
    "boolean_mask = ~df['time'].str.match(standard_time_format)\n",
    "\n",
    "#Filtering the time column by values that don't meet the standard time format\n",
    "df['time'][boolean_mask]"
   ]
  },
  {
   "cell_type": "markdown",
   "metadata": {},
   "source": [
    "## Seperation into columns\n",
    "---"
   ]
  },
  {
   "cell_type": "markdown",
   "metadata": {},
   "source": [
    "### Pivot"
   ]
  },
  {
   "cell_type": "code",
   "execution_count": null,
   "metadata": {},
   "outputs": [],
   "source": [
    "#USING NORMAL PIVOT WITH NO AGGREGATION\n",
    "#Storing each attribute in a seperate column\n",
    "pivot = df.pivot(index='Unnamed: 0', columns='variable', values='value').reset_index()\n",
    "\n",
    "\n",
    "#Merge the pivoted data back into the original DataFrame\n",
    "df_pivot = pd.merge(df, pivot, on='Unnamed: 0', how='left')\n",
    "# df_merged\n",
    "\n",
    "df_pivot"
   ]
  },
  {
   "cell_type": "markdown",
   "metadata": {},
   "source": [
    "## Remove unnecessary columns\n",
    "---"
   ]
  },
  {
   "cell_type": "code",
   "execution_count": null,
   "metadata": {},
   "outputs": [],
   "source": [
    "df_pivot.columns"
   ]
  },
  {
   "cell_type": "markdown",
   "metadata": {},
   "source": [
    "* ### Remove Unecessary columns:\n",
    "    * Remove \"appCat.utilities\"\n",
    "    * Remove \"appCat.unknown\"\n",
    "    * Remove \"appCat.builtin\" ~ Apps like camera, calendar etc.\n",
    "    * Remove 'appCat.other'\n",
    "    * Remove \"Value\" ~Since we have now added these under their relevant columns\n",
    "    * Remove \"variable\" ~Since we have now created columns from this attribute"
   ]
  },
  {
   "cell_type": "code",
   "execution_count": null,
   "metadata": {},
   "outputs": [],
   "source": [
    "df_pivot_subset = df_pivot[['Unnamed: 0', 'id', 'date_time', 'mood', 'time', 'date',\n",
    "       'activity', 'appCat.communication',\n",
    "       'appCat.entertainment', 'appCat.finance', 'appCat.game',\n",
    "       'appCat.office', 'appCat.social', 'appCat.travel',\n",
    "       'appCat.weather', 'call',\n",
    "       'circumplex.arousal', 'circumplex.valence', 'screen', 'sms']]\n",
    "\n",
    "df_pivot_subset_sorted = df_pivot_subset.sort_values(by=\"id\",ascending=True)\n",
    "df_pivot_subset_sorted"
   ]
  },
  {
   "cell_type": "markdown",
   "metadata": {},
   "source": [
    "# Analysis\n",
    "---"
   ]
  },
  {
   "cell_type": "markdown",
   "metadata": {},
   "source": [
    "* ### Data types"
   ]
  },
  {
   "cell_type": "code",
   "execution_count": null,
   "metadata": {},
   "outputs": [],
   "source": [
    "df_pivot_subset.dtypes"
   ]
  },
  {
   "cell_type": "markdown",
   "metadata": {},
   "source": [
    "* ### Description"
   ]
  },
  {
   "cell_type": "code",
   "execution_count": null,
   "metadata": {},
   "outputs": [],
   "source": [
    "df_pivot_subset.describe()"
   ]
  },
  {
   "cell_type": "markdown",
   "metadata": {},
   "source": [
    "* ### Null values"
   ]
  },
  {
   "cell_type": "code",
   "execution_count": null,
   "metadata": {},
   "outputs": [],
   "source": [
    "df_pivot_subset.isna().sum()"
   ]
  },
  {
   "cell_type": "markdown",
   "metadata": {},
   "source": [
    "* ### Distribution "
   ]
  },
  {
   "cell_type": "code",
   "execution_count": null,
   "metadata": {},
   "outputs": [],
   "source": [
    "df_pivot_subset.hist(bins = 30, figsize=(15,15))"
   ]
  },
  {
   "cell_type": "markdown",
   "metadata": {},
   "source": [
    "* ### Outlier detection"
   ]
  },
  {
   "cell_type": "code",
   "execution_count": null,
   "metadata": {},
   "outputs": [],
   "source": [
    "\n",
    "fig, axes = plt.subplots(nrows=3, ncols=3, figsize=(12, 8))  \n",
    "\n",
    "# Row 1\n",
    "axes[0,0].scatter(df_pivot_subset['id'], df_pivot_subset['appCat.communication'])\n",
    "axes[0,0].set_xlabel('id', fontweight='bold')\n",
    "axes[0,0].set_ylabel('appCat.communication', fontweight='bold')\n",
    "\n",
    "axes[0,1].scatter(df_pivot_subset['id'], df_pivot_subset['appCat.entertainment'])\n",
    "axes[0,1].set_xlabel('id', fontweight='bold')\n",
    "axes[0,1].set_ylabel('appCat.entertainment', fontweight='bold')\n",
    "\n",
    "# axes[0,2].scatter(df_pivot_subset['id'], df_pivot_subset['appCat.social'])\n",
    "# axes[0,2].set_xlabel('id', fontweight='bold')\n",
    "# axes[0,2].set_ylabel('appCat.social', fontweight='bold')\n",
    "\n",
    "axes[0,2].scatter(df_pivot_subset['id'], df_pivot_subset['appCat.finance'])\n",
    "axes[0,2].set_xlabel('id', fontweight='bold')\n",
    "axes[0,2].set_ylabel('appCat.finance', fontweight='bold')\n",
    "\n",
    "# Row 2\n",
    "\n",
    "axes[1,0].scatter(df_pivot_subset['id'], df_pivot_subset['appCat.game'])\n",
    "axes[1,0].set_xlabel('id', fontweight='bold')\n",
    "axes[1,0].set_ylabel('appCat.game', fontweight='bold')\n",
    "\n",
    "axes[1,1].scatter(df_pivot_subset['id'], df_pivot_subset['appCat.office'])\n",
    "axes[1,1].set_xlabel('id', fontweight='bold')\n",
    "axes[1,1].set_ylabel('appCat.office', fontweight='bold')\n",
    "\n",
    "axes[1,2].scatter(df_pivot_subset['id'], df_pivot_subset['appCat.social'])\n",
    "axes[1,2].set_xlabel('id', fontweight='bold')\n",
    "axes[1,2].set_ylabel('appCat.social', fontweight='bold')\n",
    "\n",
    "# Row 3\n",
    "\n",
    "axes[2,0].scatter(df_pivot_subset['id'], df_pivot_subset['appCat.travel'])\n",
    "axes[2,0].set_xlabel('id', fontweight='bold')\n",
    "axes[2,0].set_ylabel('appCat.travel', fontweight='bold')\n",
    "\n",
    "axes[2,1].scatter(df_pivot_subset['id'], df_pivot_subset['appCat.weather'])\n",
    "axes[2,1].set_xlabel('id', fontweight='bold')\n",
    "axes[2,1].set_ylabel('appCat.weather', fontweight='bold')\n",
    "\n",
    "axes[2,2].scatter(df_pivot_subset['id'], df_pivot_subset['screen'])\n",
    "axes[2,2].set_xlabel('id', fontweight='bold')\n",
    "axes[2,2].set_ylabel('screen', fontweight='bold')\n",
    "\n",
    "\n",
    "\n",
    "\n",
    "\n",
    "plt.tight_layout()\n",
    "\n",
    "plt.show()"
   ]
  },
  {
   "cell_type": "markdown",
   "metadata": {},
   "source": [
    "## Outlier removal\n",
    "---"
   ]
  },
  {
   "cell_type": "markdown",
   "metadata": {},
   "source": [
    "Paper: https://www.sciencedirect.com/science/article/pii/S1574013720304068"
   ]
  },
  {
   "cell_type": "markdown",
   "metadata": {},
   "source": [
    "* ### Remove using IQR"
   ]
  },
  {
   "cell_type": "code",
   "execution_count": null,
   "metadata": {},
   "outputs": [],
   "source": [
    "remove_outliers(df_pivot_subset, range= 3)"
   ]
  },
  {
   "cell_type": "markdown",
   "metadata": {},
   "source": [
    "## Time series analysis"
   ]
  },
  {
   "cell_type": "code",
   "execution_count": null,
   "metadata": {},
   "outputs": [],
   "source": [
    "\n",
    "# Plotting all columns at once\n",
    "df_pivot_subset.iloc[:, 3:].plot(subplots=True, figsize=(12, 18)) # 'subplots=True' plots each column in a separate subplot\n",
    "\n",
    "plt.tight_layout() # Adjusts the subplots to fit into the figure area.\n",
    "plt.show() # Displays the plot"
   ]
  },
  {
   "cell_type": "code",
   "execution_count": null,
   "metadata": {},
   "outputs": [],
   "source": [
    "#THIS IS THE FINAL DATA SET FOR YOU SHREYA \n",
    "#--------------------------------------------\n",
    "df_pivot_subset"
   ]
  }
 ],
 "metadata": {
  "kernelspec": {
   "display_name": "base",
   "language": "python",
   "name": "python3"
  },
  "language_info": {
   "codemirror_mode": {
    "name": "ipython",
    "version": 3
   },
   "file_extension": ".py",
   "mimetype": "text/x-python",
   "name": "python",
   "nbconvert_exporter": "python",
   "pygments_lexer": "ipython3",
   "version": "3.11.4"
  }
 },
 "nbformat": 4,
 "nbformat_minor": 2
}
